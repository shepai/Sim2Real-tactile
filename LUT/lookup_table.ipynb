{
 "cells": [
  {
   "attachments": {},
   "cell_type": "markdown",
   "metadata": {},
   "source": [
    "# Look up table\n",
    "\n",
    "## load in simulation"
   ]
  },
  {
   "cell_type": "code",
   "execution_count": 1,
   "metadata": {},
   "outputs": [
    {
     "name": "stderr",
     "output_type": "stream",
     "text": [
      "/its/home/drs25/miniconda3/lib/python3.10/site-packages/pandas/core/arrays/masked.py:60: UserWarning: Pandas requires version '1.3.6' or newer of 'bottleneck' (version '1.3.5' currently installed).\n",
      "  from pandas.core import (\n"
     ]
    },
    {
     "name": "stdout",
     "output_type": "stream",
     "text": [
      "Using device: cuda\n",
      "Using device: cuda\n"
     ]
    },
    {
     "name": "stderr",
     "output_type": "stream",
     "text": [
      "pybullet build time: Nov 28 2023 23:45:17\n"
     ]
    }
   ],
   "source": [
    "import numpy as np\n",
    "import letrun\n",
    "import datapath\n",
    "from data_loader import *\n",
    "from data_format import *\n",
    "import tactile_gym\n",
    "from simulation import *\n",
    "import data\n",
    "import matplotlib.pyplot as plt\n",
    "import matplotlib\n",
    "from lookuptable import *\n",
    "from time import sleep\n",
    "from IPython.display import clear_output\n",
    "import cv2\n",
    "#matplotlib.use('TkAgg')\n"
   ]
  },
  {
   "cell_type": "code",
   "execution_count": 2,
   "metadata": {},
   "outputs": [
    {
     "name": "stdout",
     "output_type": "stream",
     "text": [
      "argv[0]=\n",
      "startThreads creating 1 threads.\n",
      "starting thread 0\n",
      "started thread 0 \n",
      "argc=3\n",
      "argv[0] = --unused\n",
      "argv[1] = \n",
      "argv[2] = --start_demo_name=Physics Server\n",
      "ExampleBrowserThreadFunc started\n",
      "X11 functions dynamically loaded using dlopen/dlsym OK!\n",
      "X11 functions dynamically loaded using dlopen/dlsym OK!\n",
      "Creating context\n",
      "Created GL 3.3 context\n",
      "Direct GLX rendering context obtained\n",
      "Making context current\n",
      "GL_VENDOR=NVIDIA Corporation\n",
      "GL_RENDERER=Quadro P620/PCIe/SSE2\n",
      "GL_VERSION=3.3.0 NVIDIA 535.183.01\n",
      "GL_SHADING_LANGUAGE_VERSION=3.30 NVIDIA via Cg compiler\n",
      "pthread_getconcurrency()=0\n",
      "Version = 3.3.0 NVIDIA 535.183.01\n",
      "Vendor = NVIDIA Corporation\n",
      "Renderer = Quadro P620/PCIe/SSE2\n",
      "b3Printf: Selected demo: Physics Server\n",
      "startThreads creating 1 threads.\n",
      "starting thread 0\n",
      "started thread 0 \n",
      "MotionThreadFunc thread started\n",
      "ven = NVIDIA Corporation\n",
      "ven = NVIDIA Corporation\n"
     ]
    }
   ],
   "source": [
    "#load in environment\n",
    "env=startSim(show_gui=1,show_tactile = 0,render = 1)\n",
    "#load in dataset \n",
    "#data=loaded(20)\n"
   ]
  },
  {
   "cell_type": "code",
   "execution_count": 3,
   "metadata": {},
   "outputs": [
    {
     "name": "stdout",
     "output_type": "stream",
     "text": [
      "(1, 2, 10, 10, 50, 480, 640, 3)\n"
     ]
    }
   ],
   "source": [
    "data = np.load(datapath+'/all/TTA_Cotton_flat_P80.npy', mmap_mode='r')\n",
    "data = data.astype(np.uint8)\n",
    "print(data.shape)"
   ]
  },
  {
   "cell_type": "code",
   "execution_count": 10,
   "metadata": {},
   "outputs": [
    {
     "name": "stderr",
     "output_type": "stream",
     "text": [
      "/its/home/drs25/Documents/GitHub/Sim2Real-tactile/LUT/lookuptable.py:103: FutureWarning: The behavior of DataFrame concatenation with empty or all-NA entries is deprecated. In a future version, this will no longer exclude empty or all-NA columns when determining the result dtypes. To retain the old behavior, exclude the relevant entries before the concat operation.\n",
      "  self.data = pd.concat([self.data, pd.DataFrame([entry])], ignore_index=True)\n"
     ]
    }
   ],
   "source": [
    "#load in table\n",
    "table=LookupTable()\n",
    "pressures=3\n",
    "c=0\n",
    "pressure=0\n",
    "texture=0\n",
    "#for texture in range(15):\n",
    "for trial in range(2): #gives you the ability to average over number of trials\n",
    "    for i,y in enumerate(np.arange(0,1,0.1)): #move y along surface \n",
    "            for j,x in enumerate(reversed(np.arange(0,1,0.1))): #move direction of x along\n",
    "                    for t in range(20):\n",
    "                        image=data[0][trial][i][j][t]\n",
    "                        table.add_entry(texture,[x,y],t,pressure,image)\n",
    "                    c+=1"
   ]
  },
  {
   "cell_type": "code",
   "execution_count": 11,
   "metadata": {},
   "outputs": [
    {
     "name": "stdout",
     "output_type": "stream",
     "text": [
      "[9 9]\n"
     ]
    }
   ],
   "source": [
    "#test trial\n",
    "r=10\n",
    "env.reset()\n",
    "#env.load_edge(friction=1)\n",
    "for x in range(0,10,1):\n",
    "    #env.reset()\n",
    "    #t=0\n",
    "    for y in range(0,10,1):\n",
    "        #plt.cla()\n",
    "        clear_output(wait=True)\n",
    "        #y=(np.abs(-i**2+r**2))**0.5\n",
    "        env.step([x/10,y/10,0])\n",
    "        print(np.array([y,x],dtype=np.uint8))\n",
    "        image=table.find_nearest(0,[x/10,y/10],t,0)\n",
    "        #plt.title(np.array([y,x],dtype=np.int8))\n",
    "        cv2.imshow(\"image\",image)\n",
    "        #plt.imshow(image,cmap=\"magma\")\n",
    "        if cv2.waitKey(1) & 0xFF == ord('q'):\n",
    "            break\n",
    "        t+=1\n",
    "    #sleep(1)\n",
    "\n",
    "#plt.show()"
   ]
  },
  {
   "attachments": {},
   "cell_type": "markdown",
   "metadata": {},
   "source": [
    "# drag"
   ]
  },
  {
   "cell_type": "code",
   "execution_count": 4,
   "metadata": {},
   "outputs": [],
   "source": [
    "env.reset()\n",
    "#env._pb.removeBody(env.edge_stim_id)\n",
    "#env.load_edge(friction=100)\n",
    "m=-1\n",
    "for i in range(-40,50,1):\n",
    "    if i<0:m=-1\n",
    "    else: m=1\n",
    "    env.step([m*10,m*10,0])"
   ]
  },
  {
   "attachments": {},
   "cell_type": "markdown",
   "metadata": {},
   "source": [
    "## "
   ]
  }
 ],
 "metadata": {
  "kernelspec": {
   "display_name": "Python 3",
   "language": "python",
   "name": "python3"
  },
  "language_info": {
   "codemirror_mode": {
    "name": "ipython",
    "version": 3
   },
   "file_extension": ".py",
   "mimetype": "text/x-python",
   "name": "python",
   "nbconvert_exporter": "python",
   "pygments_lexer": "ipython3",
   "version": "3.10.8"
  },
  "orig_nbformat": 4
 },
 "nbformat": 4,
 "nbformat_minor": 2
}
