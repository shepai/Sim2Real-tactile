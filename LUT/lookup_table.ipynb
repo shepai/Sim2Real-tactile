{
 "cells": [
  {
   "attachments": {},
   "cell_type": "markdown",
   "metadata": {},
   "source": [
    "# Look up table\n",
    "\n",
    "## load in simulation"
   ]
  },
  {
   "cell_type": "code",
   "execution_count": 1,
   "metadata": {},
   "outputs": [
    {
     "name": "stdout",
     "output_type": "stream",
     "text": [
      "Using device: cuda\n",
      "Using device: cuda\n"
     ]
    },
    {
     "name": "stderr",
     "output_type": "stream",
     "text": [
      "pybullet build time: Jan 21 2025 13:32:20\n"
     ]
    }
   ],
   "source": [
    "import numpy as np\n",
    "import letrun\n",
    "import datapath\n",
    "from data_loader import *\n",
    "from data_format import *\n",
    "import tactile_gym\n",
    "from simulation import *\n",
    "import data\n",
    "import matplotlib.pyplot as plt\n",
    "import matplotlib\n",
    "from lookuptable import *\n",
    "from time import sleep\n",
    "#matplotlib.use('TkAgg')\n"
   ]
  },
  {
   "cell_type": "code",
   "execution_count": 2,
   "metadata": {},
   "outputs": [
    {
     "name": "stdout",
     "output_type": "stream",
     "text": [
      "argv[0]=\n",
      "Loaded EGL 1.5 after reload.\n",
      "GL_VENDOR=NVIDIA Corporation\n",
      "GL_RENDERER=NVIDIA GeForce RTX 3090/PCIe/SSE2\n",
      "GL_VERSION=4.6.0 NVIDIA 560.28.03\n",
      "GL_SHADING_LANGUAGE_VERSION=4.60 NVIDIA\n",
      "Version = 4.6.0 NVIDIA 560.28.03\n",
      "Vendor = NVIDIA Corporation\n",
      "Renderer = NVIDIA GeForce RTX 3090/PCIe/SSE2\n",
      "ven = NVIDIA Corporation\n",
      "ven = NVIDIA Corporation\n"
     ]
    },
    {
     "name": "stderr",
     "output_type": "stream",
     "text": [
      "EGL device choice: -1 of 3.\n"
     ]
    },
    {
     "name": "stdout",
     "output_type": "stream",
     "text": [
      "Dataset size: 3000 \n",
      "Window size: 20 \n",
      "Image: (110, 120)\n",
      "Memory needed: 0.74 GB\n"
     ]
    }
   ],
   "source": [
    "#load in environment\n",
    "env=startSim(show_gui=0,show_tactile = 0,render = 0)\n",
    "#load in dataset \n",
    "data=loaded(20)\n",
    "#load in table\n",
    "table=TABLE()\n",
    "table_form=[]\n",
    "pressures_=[]\n",
    "pressures=3\n",
    "for pressure in range(pressures):\n",
    "    for trial in range(100): #gives you the ability to average over number of trials\n",
    "        for i,y in enumerate(np.arange(0,1,0.1)): #move y along surface \n",
    "                for x in reversed(np.arange(0,1,0.1)): #move direction of x along\n",
    "                        table_form.append([x,y])\n",
    "                        pressures_.append(pressure)\n",
    "table.add_dataset_to_table(data.X,data.y,np.array(table_form*10,dtype=np.uint8),np.array(pressures_),3)"
   ]
  },
  {
   "cell_type": "code",
   "execution_count": 10,
   "metadata": {},
   "outputs": [
    {
     "name": "stdout",
     "output_type": "stream",
     "text": [
      "DEPTH 0\n"
     ]
    },
    {
     "name": "stderr",
     "output_type": "stream",
     "text": [
      "/tmp/ipykernel_432134/2159271349.py:9: DeprecationWarning: NumPy will stop allowing conversion of out-of-bound Python integers to integer arrays.  The conversion of -10 to uint8 will fail in the future.\n",
      "For the old behavior, usually:\n",
      "    np.array(value).astype(dtype)\n",
      "will give the desired result (the cast overflows).\n",
      "  image=table.look_up(0,np.array([y,i],dtype=np.uint8),0,2)\n"
     ]
    },
    {
     "ename": "IndexError",
     "evalue": "index 246 is out of bounds for axis 0 with size 1",
     "output_type": "error",
     "traceback": [
      "\u001b[0;31m---------------------------------------------------------------------------\u001b[0m",
      "\u001b[0;31mIndexError\u001b[0m                                Traceback (most recent call last)",
      "Cell \u001b[0;32mIn[10], line 9\u001b[0m\n\u001b[1;32m      7\u001b[0m y\u001b[39m=\u001b[39m(np\u001b[39m.\u001b[39mabs(\u001b[39m-\u001b[39mi\u001b[39m*\u001b[39m\u001b[39m*\u001b[39m\u001b[39m2\u001b[39m\u001b[39m+\u001b[39mr\u001b[39m*\u001b[39m\u001b[39m*\u001b[39m\u001b[39m2\u001b[39m))\u001b[39m*\u001b[39m\u001b[39m*\u001b[39m\u001b[39m0.5\u001b[39m\n\u001b[1;32m      8\u001b[0m env\u001b[39m.\u001b[39mstep([i\u001b[39m/\u001b[39m\u001b[39m10\u001b[39m,y\u001b[39m/\u001b[39m\u001b[39m10\u001b[39m,(i\u001b[39m/\u001b[39m\u001b[39mabs\u001b[39m(i)) \u001b[39mif\u001b[39;00m i \u001b[39m!=\u001b[39m \u001b[39m0\u001b[39m \u001b[39melse\u001b[39;00m \u001b[39m1\u001b[39m])\n\u001b[0;32m----> 9\u001b[0m image\u001b[39m=\u001b[39mtable\u001b[39m.\u001b[39;49mlook_up(\u001b[39m0\u001b[39;49m,np\u001b[39m.\u001b[39;49marray([y,i],dtype\u001b[39m=\u001b[39;49mnp\u001b[39m.\u001b[39;49muint8),\u001b[39m0\u001b[39;49m,\u001b[39m2\u001b[39;49m)\n\u001b[1;32m     10\u001b[0m plt\u001b[39m.\u001b[39mtitle(np\u001b[39m.\u001b[39marray([y,i],dtype\u001b[39m=\u001b[39mnp\u001b[39m.\u001b[39muint8))\n\u001b[1;32m     11\u001b[0m plt\u001b[39m.\u001b[39mimshow(image)\n",
      "File \u001b[0;32m~/Sim2Real-tactile/LUT/lookuptable.py:80\u001b[0m, in \u001b[0;36mTABLE.look_up\u001b[0;34m(self, friction, dirs, pressure, time)\u001b[0m\n\u001b[1;32m     78\u001b[0m \u001b[39mmap\u001b[39m\u001b[39m=\u001b[39m\u001b[39mself\u001b[39m\u001b[39m.\u001b[39mget_map(friction)\n\u001b[1;32m     79\u001b[0m \u001b[39mif\u001b[39;00m time\u001b[39m>\u001b[39m\u001b[39mself\u001b[39m\u001b[39m.\u001b[39mmaps[\u001b[39mmap\u001b[39m]\u001b[39m.\u001b[39mshape[\u001b[39m2\u001b[39m]: time\u001b[39m=\u001b[39m\u001b[39m99\u001b[39m\n\u001b[0;32m---> 80\u001b[0m nearest_image\u001b[39m=\u001b[39m\u001b[39mself\u001b[39;49m\u001b[39m.\u001b[39;49mfind_nearest(\u001b[39mmap\u001b[39;49m,dirs,time,pressure)\n\u001b[1;32m     81\u001b[0m \u001b[39mreturn\u001b[39;00m nearest_image\n",
      "File \u001b[0;32m~/Sim2Real-tactile/LUT/lookuptable.py:57\u001b[0m, in \u001b[0;36mTABLE.find_nearest\u001b[0;34m(self, map, dirs, time, pressure, i)\u001b[0m\n\u001b[1;32m     55\u001b[0m \u001b[39mdef\u001b[39;00m \u001b[39mfind_nearest\u001b[39m(\u001b[39mself\u001b[39m,\u001b[39mmap\u001b[39m,dirs,time,pressure,i\u001b[39m=\u001b[39m\u001b[39m0\u001b[39m): \u001b[39m#find the nereates image in the lookup table\u001b[39;00m\n\u001b[1;32m     56\u001b[0m     \u001b[39mprint\u001b[39m(\u001b[39m\"\u001b[39m\u001b[39mDEPTH\u001b[39m\u001b[39m\"\u001b[39m,i )\n\u001b[0;32m---> 57\u001b[0m     \u001b[39mif\u001b[39;00m np\u001b[39m.\u001b[39msum(\u001b[39mself\u001b[39;49m\u001b[39m.\u001b[39;49mmaps[\u001b[39mmap\u001b[39;49m][dirs[\u001b[39m0\u001b[39;49m]][dirs[\u001b[39m1\u001b[39;49m]][time][pressure])\u001b[39m==\u001b[39m\u001b[39m0\u001b[39m:\n\u001b[1;32m     58\u001b[0m         dirs[\u001b[39m0\u001b[39m]\u001b[39m-\u001b[39m\u001b[39m=\u001b[39m\u001b[39m1\u001b[39m\n\u001b[1;32m     59\u001b[0m         image\u001b[39m=\u001b[39m\u001b[39mself\u001b[39m\u001b[39m.\u001b[39mfind_nearest(\u001b[39mmap\u001b[39m,dirs,time,pressure,i\u001b[39m=\u001b[39mi\u001b[39m+\u001b[39m\u001b[39m1\u001b[39m)\n",
      "\u001b[0;31mIndexError\u001b[0m: index 246 is out of bounds for axis 0 with size 1"
     ]
    },
    {
     "data": {
      "image/png": "[encoded data removed]",
      "text/plain": [
       "<Figure size 640x480 with 1 Axes>"
      ]
     },
     "metadata": {},
     "output_type": "display_data"
    }
   ],
   "source": [
    "#test trial\n",
    "r=10\n",
    "env.reset()\n",
    "#env.load_edge(friction=1)\n",
    "for i in range(-10,10,1):\n",
    "    plt.cla()\n",
    "    y=(np.abs(-i**2+r**2))**0.5\n",
    "    env.step([i/10,y/10,(i/abs(i)) if i != 0 else 1])\n",
    "    image=table.look_up(0,np.array([y,i],dtype=np.uint8),0,2)\n",
    "    plt.title(np.array([y,i],dtype=np.uint8))\n",
    "    plt.imshow(image)\n",
    "    plt.pause(0.5)\n",
    "    sleep(1)\n",
    "\n",
    "plt.show()"
   ]
  },
  {
   "attachments": {},
   "cell_type": "markdown",
   "metadata": {},
   "source": [
    "# drag"
   ]
  },
  {
   "cell_type": "code",
   "execution_count": null,
   "metadata": {},
   "outputs": [
    {
     "ename": "TypeError",
     "evalue": "EdgeFollowEnv.load_edge() got an unexpected keyword argument 'friction'",
     "output_type": "error",
     "traceback": [
      "\u001b[0;31m---------------------------------------------------------------------------\u001b[0m",
      "\u001b[0;31mTypeError\u001b[0m                                 Traceback (most recent call last)",
      "Cell \u001b[0;32mIn[2], line 3\u001b[0m\n\u001b[1;32m      1\u001b[0m env\u001b[39m.\u001b[39mreset()\n\u001b[1;32m      2\u001b[0m env\u001b[39m.\u001b[39m_pb\u001b[39m.\u001b[39mremoveBody(env\u001b[39m.\u001b[39medge_stim_id)\n\u001b[0;32m----> 3\u001b[0m env\u001b[39m.\u001b[39;49mload_edge(friction\u001b[39m=\u001b[39;49m\u001b[39m100\u001b[39;49m)\n\u001b[1;32m      4\u001b[0m m\u001b[39m=\u001b[39m\u001b[39m-\u001b[39m\u001b[39m1\u001b[39m\n\u001b[1;32m      5\u001b[0m \u001b[39mfor\u001b[39;00m i \u001b[39min\u001b[39;00m \u001b[39mrange\u001b[39m(\u001b[39m-\u001b[39m\u001b[39m40\u001b[39m,\u001b[39m50\u001b[39m,\u001b[39m1\u001b[39m):\n",
      "\u001b[0;31mTypeError\u001b[0m: EdgeFollowEnv.load_edge() got an unexpected keyword argument 'friction'"
     ]
    },
    {
     "ename": "",
     "evalue": "",
     "output_type": "error",
     "traceback": [
      "\u001b[1;31mThe Kernel crashed while executing code in the the current cell or a previous cell. Please review the code in the cell(s) to identify a possible cause of the failure. Click <a href='https://aka.ms/vscodeJupyterKernelCrash'>here</a> for more info. View Jupyter <a href='command:jupyter.viewOutput'>log</a> for further details."
     ]
    }
   ],
   "source": [
    "env.reset()\n",
    "env._pb.removeBody(env.edge_stim_id)\n",
    "env.load_edge(friction=100)\n",
    "m=-1\n",
    "for i in range(-40,50,1):\n",
    "    if i<0:m=-1\n",
    "    else: m=1\n",
    "    env.step([m*10,m*10,0])"
   ]
  },
  {
   "attachments": {},
   "cell_type": "markdown",
   "metadata": {},
   "source": [
    "## "
   ]
  }
 ],
 "metadata": {
  "kernelspec": {
   "display_name": "base",
   "language": "python",
   "name": "python3"
  },
  "language_info": {
   "codemirror_mode": {
    "name": "ipython",
    "version": 3
   },
   "file_extension": ".py",
   "mimetype": "text/x-python",
   "name": "python",
   "nbconvert_exporter": "python",
   "pygments_lexer": "ipython3",
   "version": "3.10.12"
  },
  "orig_nbformat": 4
 },
 "nbformat": 4,
 "nbformat_minor": 2
}
